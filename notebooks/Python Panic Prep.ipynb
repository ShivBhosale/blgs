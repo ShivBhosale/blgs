{
 "cells": [
  {
   "cell_type": "markdown",
   "metadata": {},
   "source": [
    "# Do you have an interview? \n",
    "Have you again fallen prey to your poor foresight? This is a python panic prep. Will help you quickly get the basics straight. These notes are mostly surface notes that act as memory pegs to link the most imp concepts"
   ]
  },
  {
   "cell_type": "markdown",
   "metadata": {},
   "source": [
    "# Sec 1: Python OOPS\n",
    "\n",
    "### What does OOPS have?\n",
    "* Class\n",
    "* Object\n",
    "\n",
    "4 pillars of OOPS: use mnemonic IAPE\n",
    "\n",
    "* Inheritance\n",
    "* Abstraction\n",
    "* Polymorphism\n",
    "* Encapsulation"
   ]
  },
  {
   "cell_type": "markdown",
   "metadata": {},
   "source": [
    "### All about the class"
   ]
  },
  {
   "cell_type": "code",
   "execution_count": 3,
   "metadata": {},
   "outputs": [],
   "source": [
    "# How do you declare a class?\n",
    "\n",
    "class Ape:\n",
    "    def __init__(self):\n",
    "        # this is the default constructor\n",
    "        pass\n",
    "    def __init__(self, param1, param2):\n",
    "        # This is a parametrized constructor\n",
    "        self.params = [param1, param2]\n",
    "        pass"
   ]
  },
  {
   "cell_type": "code",
   "execution_count": 5,
   "metadata": {},
   "outputs": [
    {
     "ename": "TypeError",
     "evalue": "__init__() missing 2 required positional arguments: 'param1' and 'param2'",
     "output_type": "error",
     "traceback": [
      "\u001b[0;31m---------------------------------------------------------------------------\u001b[0m",
      "\u001b[0;31mTypeError\u001b[0m                                 Traceback (most recent call last)",
      "\u001b[0;32m<ipython-input-5-78c41f967503>\u001b[0m in \u001b[0;36m<module>\u001b[0;34m()\u001b[0m\n\u001b[1;32m      2\u001b[0m \u001b[0;31m# If you put in both then it will pick up the constructor that is defined later in the line.\u001b[0m\u001b[0;34m\u001b[0m\u001b[0;34m\u001b[0m\u001b[0;34m\u001b[0m\u001b[0m\n\u001b[1;32m      3\u001b[0m \u001b[0;31m# The following code will error out\u001b[0m\u001b[0;34m\u001b[0m\u001b[0;34m\u001b[0m\u001b[0;34m\u001b[0m\u001b[0m\n\u001b[0;32m----> 4\u001b[0;31m \u001b[0ma1\u001b[0m \u001b[0;34m=\u001b[0m \u001b[0mApe\u001b[0m\u001b[0;34m(\u001b[0m\u001b[0;34m)\u001b[0m\u001b[0;34m\u001b[0m\u001b[0;34m\u001b[0m\u001b[0m\n\u001b[0m\u001b[1;32m      5\u001b[0m \u001b[0ma2\u001b[0m \u001b[0;34m=\u001b[0m \u001b[0mApe\u001b[0m\u001b[0;34m(\u001b[0m\u001b[0;34m\"Hi\"\u001b[0m\u001b[0;34m,\u001b[0m \u001b[0;36m34\u001b[0m\u001b[0;34m)\u001b[0m\u001b[0;34m\u001b[0m\u001b[0;34m\u001b[0m\u001b[0m\n\u001b[1;32m      6\u001b[0m \u001b[0ma1\u001b[0m\u001b[0;34m,\u001b[0m \u001b[0ma2\u001b[0m\u001b[0;34m\u001b[0m\u001b[0;34m\u001b[0m\u001b[0m\n",
      "\u001b[0;31mTypeError\u001b[0m: __init__() missing 2 required positional arguments: 'param1' and 'param2'"
     ]
    }
   ],
   "source": [
    "# You can either have default or param constructor.\n",
    "# If you put in both then it will pick up the constructor that is defined later in the line.\n",
    "# The following code will error out\n",
    "a1 = Ape()\n",
    "a2 = Ape(\"Hi\", 34)\n",
    "a1, a2"
   ]
  },
  {
   "cell_type": "markdown",
   "metadata": {},
   "source": [
    "#### Composition of an Object"
   ]
  },
  {
   "cell_type": "code",
   "execution_count": 54,
   "metadata": {},
   "outputs": [],
   "source": [
    "# This section tells you the variable types and internal workings of a class\n",
    "# To understand this example you must have seen JOJO's bizzare adventures (season2 atleast)\n",
    "\n",
    "# Review in the following order:\n",
    "# 1) Class variables and instance variables\n",
    "# 2) Variable naming conventions (private vs public etc)\n",
    "# 3) Method behaviours and naming variables\n",
    "\n",
    "class Stand:\n",
    "    # Class variable are defined anywhere in the class body\n",
    "    # Class variables are common across all instances of an object of this type\n",
    "    age_of_manifestation = 14\n",
    "    \n",
    "    # Also just because it is shared, doesnt mean that its value will changed across all objects\n",
    "    def __init__(self, name, age, stand_name, stand_power):\n",
    "        # All of these are specific to an individial class\n",
    "        self.name = name\n",
    "        self.age = age\n",
    "        self.stand_name = stand_name\n",
    "        # prefixing an instance variable with double dunders will make it a private var\n",
    "        # Will be invisible outside the class tho\n",
    "        self.__stand_power = stand_power"
   ]
  },
  {
   "cell_type": "code",
   "execution_count": 55,
   "metadata": {},
   "outputs": [],
   "source": [
    "Jotaro = Stand(\"Jotaro Kujo\", 19, \"Star Platinum\", \"Speed and Precision\")\n",
    "Dio = Stand(\"Dio Brando\", 120, \"The World\", \"Time Stopping\")"
   ]
  },
  {
   "cell_type": "code",
   "execution_count": 56,
   "metadata": {},
   "outputs": [
    {
     "name": "stdout",
     "output_type": "stream",
     "text": [
      "{'name': 'Jotaro Kujo', 'age': 19, 'stand_name': 'Star Platinum', '_Stand__stand_power': 'Speed and Precision'}\n",
      "{'name': 'Dio Brando', 'age': 120, 'stand_name': 'The World', '_Stand__stand_power': 'Time Stopping'}\n"
     ]
    }
   ],
   "source": [
    "# Instance variables are different\n",
    "print(Jotaro.__dict__)\n",
    "print(Dio.__dict__)"
   ]
  },
  {
   "cell_type": "code",
   "execution_count": 47,
   "metadata": {},
   "outputs": [
    {
     "data": {
      "text/plain": [
       "(14, 14)"
      ]
     },
     "execution_count": 47,
     "metadata": {},
     "output_type": "execute_result"
    }
   ],
   "source": [
    "# Age of manifestation is same across both classes\n",
    "Jotaro.age_of_manifestation, Dio.age_of_manifestation"
   ]
  },
  {
   "cell_type": "code",
   "execution_count": 48,
   "metadata": {},
   "outputs": [
    {
     "data": {
      "text/plain": [
       "(17, 14)"
      ]
     },
     "execution_count": 48,
     "metadata": {},
     "output_type": "execute_result"
    }
   ],
   "source": [
    "# If you however  change one of the class variables then it\n",
    "Jotaro.age_of_manifestation = 17\n",
    "Jotaro.age_of_manifestation, Dio.age_of_manifestation"
   ]
  },
  {
   "cell_type": "markdown",
   "metadata": {},
   "source": [
    "### Private variables"
   ]
  },
  {
   "cell_type": "code",
   "execution_count": 58,
   "metadata": {},
   "outputs": [
    {
     "ename": "AttributeError",
     "evalue": "'Stand' object has no attribute '__stand_power'",
     "output_type": "error",
     "traceback": [
      "\u001b[0;31m---------------------------------------------------------------------------\u001b[0m",
      "\u001b[0;31mAttributeError\u001b[0m                            Traceback (most recent call last)",
      "\u001b[0;32m<ipython-input-58-bf0ca7db40ba>\u001b[0m in \u001b[0;36m<module>\u001b[0;34m()\u001b[0m\n\u001b[1;32m      2\u001b[0m \u001b[0;31m# YOu can manipulate the variable using the class's internal\u001b[0m\u001b[0;34m\u001b[0m\u001b[0;34m\u001b[0m\u001b[0;34m\u001b[0m\u001b[0m\n\u001b[1;32m      3\u001b[0m \u001b[0;31m# methods\u001b[0m\u001b[0;34m\u001b[0m\u001b[0;34m\u001b[0m\u001b[0;34m\u001b[0m\u001b[0m\n\u001b[0;32m----> 4\u001b[0;31m \u001b[0mJotaro\u001b[0m\u001b[0;34m.\u001b[0m\u001b[0m__stand_power\u001b[0m\u001b[0;34m\u001b[0m\u001b[0;34m\u001b[0m\u001b[0m\n\u001b[0m",
      "\u001b[0;31mAttributeError\u001b[0m: 'Stand' object has no attribute '__stand_power'"
     ]
    }
   ],
   "source": [
    "# Throws an error because it is invisible outside.\n",
    "# YOu can manipulate the variable using the class's internal \n",
    "# methods\n",
    "Jotaro.__stand_power"
   ]
  },
  {
   "cell_type": "markdown",
   "metadata": {},
   "source": [
    "# The 4 pillars of OOPs\n",
    "\n",
    "![alt text](https://encrypted-tbn0.gstatic.com/images?q=tbn%3AANd9GcRUVUvbNRZL6ccFJ8cuiBYwbd68YW7IlzG01b6H3jh3jucb9Bvo \"JOJO Pillar men\")\n",
    "\n",
    "These 3 bois are the great pillar men from JOJO season 1. 4th Pillar man dies early on but its irrelevant. Conveniently there were 4 pillar men"
   ]
  },
  {
   "cell_type": "code",
   "execution_count": 59,
   "metadata": {},
   "outputs": [],
   "source": [
    "# Abstraction: It's a way of saying that Objects give you a simple way of interacting with code without you\n",
    "# needing to know what is going on under the hood. For example, Alexa is a rather smart speech interpreter and \n",
    "# internally there are probably a huge number of if-else statements (AI) but the user doesn't care.\n",
    "# I personally belive that this is the weakest pillar because, abstraction is not something provided only by\n",
    "# classes. It's just highlighted here. Maybe Ecapsulation and Abstraction should combined into a single pillar."
   ]
  },
  {
   "cell_type": "code",
   "execution_count": 60,
   "metadata": {},
   "outputs": [],
   "source": [
    "# Encapsulation: Wrapping methods and attributes into a nice usable object. That's all."
   ]
  },
  {
   "cell_type": "code",
   "execution_count": 61,
   "metadata": {},
   "outputs": [],
   "source": [
    "# Inheritance: You derive a class from some other class. Python allows multiple inheritance haha why bro"
   ]
  },
  {
   "cell_type": "code",
   "execution_count": 69,
   "metadata": {},
   "outputs": [],
   "source": [
    "class parent:\n",
    "    def personality(self):\n",
    "        print(\"Cool\\nAnime Enthusiast\\nAnt Farm Owner\")\n",
    "        "
   ]
  },
  {
   "cell_type": "code",
   "execution_count": 70,
   "metadata": {},
   "outputs": [],
   "source": [
    "class child(parent):\n",
    "    pass"
   ]
  },
  {
   "cell_type": "code",
   "execution_count": 71,
   "metadata": {},
   "outputs": [
    {
     "name": "stdout",
     "output_type": "stream",
     "text": [
      "Cool\n",
      "Anime Enthusiast\n",
      "Ant Farm Owner\n"
     ]
    }
   ],
   "source": [
    "# Child should inherit parents personality\n",
    "c = child()\n",
    "c.personality()"
   ]
  },
  {
   "cell_type": "code",
   "execution_count": 72,
   "metadata": {},
   "outputs": [],
   "source": [
    "# Function OVERRIDING\n",
    "# Is basically when a child overrides the parents methods lol\n",
    "class bast_child(parent):\n",
    "    def personality(self):\n",
    "        print(\"Annoying\\nDecietful\\n6tf3in\")"
   ]
  },
  {
   "cell_type": "code",
   "execution_count": 74,
   "metadata": {},
   "outputs": [
    {
     "name": "stdout",
     "output_type": "stream",
     "text": [
      "Annoying\n",
      "Decietful\n",
      "6tf3in\n"
     ]
    }
   ],
   "source": [
    "# Basically child 2 doesn't have a nice personality. Lol\n",
    "c2 = bast_child()\n",
    "c2.personality()"
   ]
  },
  {
   "cell_type": "code",
   "execution_count": 79,
   "metadata": {},
   "outputs": [],
   "source": [
    "# Hey but I now wanna access parents methods along with my own methods\n",
    "class cool_child(parent):\n",
    "    def personality(self):\n",
    "        print(\"Creative\\nAnalytical\\nSneaker Hoarder\")\n",
    "        print(\"AAANNNDDD ALSOOO:\")\n",
    "        super().personality() # Super allows you to access the methods and properties defined in the parent class"
   ]
  },
  {
   "cell_type": "code",
   "execution_count": 80,
   "metadata": {},
   "outputs": [
    {
     "name": "stdout",
     "output_type": "stream",
     "text": [
      "Creative\n",
      "Analytical\n",
      "Sneaker Hoarder\n",
      "AAANNNDDD ALSOOO:\n",
      "Cool\n",
      "Anime Enthusiast\n",
      "Ant Farm Owner\n"
     ]
    }
   ],
   "source": [
    "c2 = cool_child()\n",
    "c2.personality()"
   ]
  },
  {
   "cell_type": "code",
   "execution_count": 86,
   "metadata": {},
   "outputs": [
    {
     "ename": "TypeError",
     "evalue": "area() missing 2 required positional arguments: 'l1' and 'h1'",
     "output_type": "error",
     "traceback": [
      "\u001b[0;31m---------------------------------------------------------------------------\u001b[0m",
      "\u001b[0;31mTypeError\u001b[0m                                 Traceback (most recent call last)",
      "\u001b[0;32m<ipython-input-86-4534a47a46f6>\u001b[0m in \u001b[0;36m<module>\u001b[0;34m()\u001b[0m\n\u001b[1;32m     31\u001b[0m \u001b[0;34m\u001b[0m\u001b[0m\n\u001b[1;32m     32\u001b[0m \u001b[0mcalc\u001b[0m \u001b[0;34m=\u001b[0m \u001b[0mArea\u001b[0m\u001b[0;34m(\u001b[0m\u001b[0;34m)\u001b[0m\u001b[0;34m\u001b[0m\u001b[0;34m\u001b[0m\u001b[0m\n\u001b[0;32m---> 33\u001b[0;31m \u001b[0mcalc\u001b[0m\u001b[0;34m.\u001b[0m\u001b[0marea\u001b[0m\u001b[0;34m(\u001b[0m\u001b[0mr\u001b[0m\u001b[0;34m)\u001b[0m\u001b[0;34m,\u001b[0m \u001b[0mcalc\u001b[0m\u001b[0;34m.\u001b[0m\u001b[0marea\u001b[0m\u001b[0;34m(\u001b[0m\u001b[0mw\u001b[0m\u001b[0;34m,\u001b[0m\u001b[0ml\u001b[0m\u001b[0;34m)\u001b[0m\u001b[0;34m,\u001b[0m \u001b[0mcalc\u001b[0m\u001b[0;34m.\u001b[0m\u001b[0marea\u001b[0m\u001b[0;34m(\u001b[0m\u001b[0mw1\u001b[0m\u001b[0;34m,\u001b[0m \u001b[0ml1\u001b[0m\u001b[0;34m,\u001b[0m\u001b[0mh1\u001b[0m\u001b[0;34m)\u001b[0m\u001b[0;34m\u001b[0m\u001b[0;34m\u001b[0m\u001b[0m\n\u001b[0m",
      "\u001b[0;31mTypeError\u001b[0m: area() missing 2 required positional arguments: 'l1' and 'h1'"
     ]
    }
   ],
   "source": [
    "# Polymorphism: Polymorphism is so weird in python. Should we even call it polymorphism?\n",
    "# Ideally in OOP world polymorphism is defined as variance in a function's behavious dependent on its datatype\n",
    "# Python doesn't support it cuz its dynamiclly typed lang. \n",
    "# not really. Python forces you to write an interface to achieve polymorphism\n",
    "\n",
    "# This shit fails. Take this JAVA ass shit to your compiler. We dont do that here\n",
    "class Area:\n",
    "    # most cliche example\n",
    "    # area circle\n",
    "    def area(self, r):\n",
    "        import math\n",
    "        return math.pi*r**2\n",
    "    \n",
    "    # area of quadrilateral\n",
    "    def area(self, w,h):\n",
    "        return w*h\n",
    "    \n",
    "    # surface area\n",
    "    def area(self, w1, l1, h1):\n",
    "        return 2*(w1*l1+l1*h1+w1*h1)\n",
    "\n",
    "# shapes\n",
    "# circle with radius 5\n",
    "r=5\n",
    "\n",
    "# quad with w, l = 3,6\n",
    "w,l = 3,6\n",
    "\n",
    "# cuboid with w,l,h = 3,7,19\n",
    "w1, l1,h1 = 3,7,19\n",
    "\n",
    "calc = Area()\n",
    "calc.area(r), calc.area(w,l), calc.area(w1, l1,h1)"
   ]
  },
  {
   "cell_type": "code",
   "execution_count": 90,
   "metadata": {},
   "outputs": [],
   "source": [
    "# The right way of doing it\n",
    "\n",
    "class Circle:\n",
    "    def __init__(self, r):\n",
    "        self.r = r\n",
    "    def area(self):\n",
    "        import math\n",
    "        return math.pi*self.r**2\n",
    "    \n",
    "class Quad:\n",
    "    def __init__(self, w, l):\n",
    "        self.w, self.l = w,l\n",
    "    def area(self):\n",
    "        return self.w*self.l\n",
    "\n",
    "class Cuboid:\n",
    "    def __init__(self, w,l,b):\n",
    "        self.w, self.l, self.b = w,l,b\n",
    "    def area(self):\n",
    "        return 2*(self.w*self.l+self.l*self.b+self.w*self.b)\n",
    "    \n",
    "def area(obj):\n",
    "    return obj.area()"
   ]
  },
  {
   "cell_type": "code",
   "execution_count": 92,
   "metadata": {},
   "outputs": [
    {
     "data": {
      "text/plain": [
       "(78.53981633974483, 18, 422)"
      ]
     },
     "execution_count": 92,
     "metadata": {},
     "output_type": "execute_result"
    }
   ],
   "source": [
    "# shapes\n",
    "# circle with radius 5\n",
    "r=5\n",
    "\n",
    "# quad with w, l = 3,6\n",
    "w,l = 3,6\n",
    "\n",
    "# cuboid with w,l,h = 3,7,19\n",
    "w1, l1,h1 = 3,7,19\n",
    "\n",
    "circle = Circle(r)\n",
    "quad = Quad(w,l)\n",
    "cuboid = Cuboid(w1, l1,h1)\n",
    "\n",
    "# similar to the syntax of len(\"some string\") and len([some list])\n",
    "# THey use interfaces to achieve this. Doesn't support Overloading\n",
    "area(circle), area(quad), area(cuboid)"
   ]
  },
  {
   "cell_type": "markdown",
   "metadata": {},
   "source": [
    "# Sec 2: API TOOLS\n",
    "\n",
    "### I'll try to cover 3 API frameworks that I've used so far and their plus points etc\n",
    "\n",
    "* Flask\n",
    "* AioHTTP\n",
    "* Django"
   ]
  },
  {
   "cell_type": "markdown",
   "metadata": {},
   "source": [
    "### Quick diff between SOAP and REST\n",
    "Both are protocols for web services to be able to talk to each other\n",
    "\n",
    "REST | SOAP\n",
    "-----|-----\n",
    "Industry Standard | Old stuff\n",
    "architechture style | is a standard protocol\n",
    "lotta formats (json, xml, Html etc) | only xml\n",
    "light weight| lotta stuff makes implementation bloated\n",
    "no need to check payload | has string checks that validates the payload\n"
   ]
  },
  {
   "cell_type": "markdown",
   "metadata": {},
   "source": [
    "### stuff u will be asked about REST\n",
    "\n",
    "* features of REST?\n"
   ]
  },
  {
   "cell_type": "code",
   "execution_count": null,
   "metadata": {},
   "outputs": [],
   "source": []
  }
 ],
 "metadata": {
  "kernelspec": {
   "display_name": "Python 3",
   "language": "python",
   "name": "python3"
  },
  "language_info": {
   "codemirror_mode": {
    "name": "ipython",
    "version": 3
   },
   "file_extension": ".py",
   "mimetype": "text/x-python",
   "name": "python",
   "nbconvert_exporter": "python",
   "pygments_lexer": "ipython3",
   "version": "3.6.8"
  }
 },
 "nbformat": 4,
 "nbformat_minor": 2
}
