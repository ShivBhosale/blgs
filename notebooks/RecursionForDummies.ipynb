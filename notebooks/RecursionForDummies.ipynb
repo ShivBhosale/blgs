{
 "cells": [
  {
   "cell_type": "markdown",
   "metadata": {},
   "source": [
    "![alt text](https://cdn.pixabay.com/photo/2017/06/16/07/26/under-construction-2408062_960_720.png \"Logo Title Text 1\")"
   ]
  },
  {
   "cell_type": "markdown",
   "metadata": {},
   "source": [
    "#### Before you move ahead:\n",
    "The contents of this blog are quite old. I'm putting together my old algorithm notes in one place mainly to test this React component. These notes are super rough."
   ]
  },
  {
   "cell_type": "markdown",
   "metadata": {},
   "source": [
    "# Roadmap\n",
    "\n",
    "* 1. What is recursion and where do beginners struggle?\n",
    "* 2. Mental models to help with recursion\n",
    "* 3. Easy Problem\n",
    "* 4. Medium Problem\n",
    "* 5. Hard Problem"
   ]
  },
  {
   "cell_type": "markdown",
   "metadata": {},
   "source": [
    "# 1. What is recursion and where do beginners struggle?\n",
    "In computer science, recursion is usually when a function calls itself repeatedly. Assuming that any person that stumbles across this blog has some experience in programming, I'll directly address the most common issue that I've seen students face. \n",
    "\n",
    "During my time at the university, I used to be the head of a competitive programming club. I had to teach a lot of first and second-year computer engineering students on how to design good and efficient algorithms. I tried to recognize the list of issues that most students had when designing an algorithm (simplest to hardest):\n",
    "\n",
    "* 1. How to start with a recursive function\n",
    "* 2. How to communicate between recursive calls\n",
    "* 3. Exit conditions\n",
    "\n",
    "I'll address these questions and also introduce some nice mental models to build a good foundation"
   ]
  },
  {
   "cell_type": "markdown",
   "metadata": {},
   "source": [
    "# 2. Mental models to help with recursion\n",
    "A significant number of students just straight out did not know where to start the code for a recursive problem. They instinctively try to come up with a solution that covers all levels of recursion, in a single go i.e. they skip the unrolling of a recursive call and directly try to formulate a recursive function with extremely inchoate mental models. \n",
    "\n",
    "I beleive that developing strong mental models are prerequisite to effective learning. If you have no mental model then you will struggle with problem-solving. If you have isolated mental models (i.e. those which you haven't been able to connect with other concepts) then you will probably forget that concept in a very short time. \n",
    "\n",
    "Here is how one could start with a recursion problem:\n",
    "* 1. Write a function that solves the first 3 steps of the recursion separately. Hard code the returns\n",
    "* 2. Express these steps in the form of previous steps. It should be pretty easy now.\n",
    "* 3. Use a parameter to switch between 2 previous steps. Try to make the usage generalized \n",
    "* 4. Write the exit statement\n",
    "\n",
    "\n",
    "Let's start with the simplest problem and work our way up to some tougher problems\n",
    "\n",
    "# Level: EASY\n",
    "## Fibonacci\n",
    "\n",
    "Example:\n",
    "Fibonacci series goes something like this:\n",
    "0, 1, 1, 2, 3, 5, 8, 13, 21 ...\n",
    "\n",
    "here each term is the sum of the previous two.\n",
    "\n",
    "Here is how we will start:"
   ]
  },
  {
   "cell_type": "code",
   "execution_count": 19,
   "metadata": {},
   "outputs": [],
   "source": [
    "def step0():return 0\n",
    "def step1():return 1\n",
    "def step2():return 1\n",
    "# first three terms are 0, 1, 1"
   ]
  },
  {
   "cell_type": "markdown",
   "metadata": {},
   "source": [
    "#### Try to define step 2 as a combination of previous steps"
   ]
  },
  {
   "cell_type": "code",
   "execution_count": 22,
   "metadata": {},
   "outputs": [],
   "source": [
    "# step2 unified, version 1\n",
    "# abbreviated as s2v1\n",
    "def s2v1(): return step1()+step0()"
   ]
  },
  {
   "cell_type": "code",
   "execution_count": 23,
   "metadata": {},
   "outputs": [
    {
     "data": {
      "text/plain": [
       "(1, 1)"
      ]
     },
     "execution_count": 23,
     "metadata": {},
     "output_type": "execute_result"
    }
   ],
   "source": [
    "# notice both are same\n",
    "step2(), s2v1()"
   ]
  },
  {
   "cell_type": "markdown",
   "metadata": {},
   "source": [
    "#### Try to write step 0 and step 1 as a single function with step number as the input"
   ]
  },
  {
   "cell_type": "code",
   "execution_count": 25,
   "metadata": {},
   "outputs": [],
   "source": [
    "# step 0-1 version 1\n",
    "def s01v1(step):\n",
    "    if step == 0: return 0\n",
    "    if step == 1: return 1"
   ]
  },
  {
   "cell_type": "code",
   "execution_count": 26,
   "metadata": {},
   "outputs": [],
   "source": [
    "def s2v2():\n",
    "    return s01v1(0)+s01v1(1)"
   ]
  },
  {
   "cell_type": "code",
   "execution_count": 28,
   "metadata": {},
   "outputs": [
    {
     "data": {
      "text/plain": [
       "(1, 1, 1)"
      ]
     },
     "execution_count": 28,
     "metadata": {},
     "output_type": "execute_result"
    }
   ],
   "source": [
    "# notice all three are same\n",
    "step2(), s2v1(), s2v2()"
   ]
  },
  {
   "cell_type": "markdown",
   "metadata": {},
   "source": [
    "#### Now try to write s2v2() but as a function of a step"
   ]
  },
  {
   "cell_type": "code",
   "execution_count": 29,
   "metadata": {},
   "outputs": [],
   "source": [
    "def s2v3(step):\n",
    "    return s01v1(step-2)+s01v1(step-1)"
   ]
  },
  {
   "cell_type": "code",
   "execution_count": 30,
   "metadata": {},
   "outputs": [
    {
     "data": {
      "text/plain": [
       "(1, 1, 1, 1)"
      ]
     },
     "execution_count": 30,
     "metadata": {},
     "output_type": "execute_result"
    }
   ],
   "source": [
    "# notice all 4 are same\n",
    "step2(), s2v1(), s2v2(), s2v3(2)"
   ]
  },
  {
   "cell_type": "markdown",
   "metadata": {},
   "source": [
    "#### Was reaching here easy? Now just reference self as you have been able to get the basic structure out!"
   ]
  },
  {
   "cell_type": "code",
   "execution_count": 34,
   "metadata": {},
   "outputs": [],
   "source": [
    "def s2v4(step):\n",
    "    return s2v4(step-2)+s2v4(step-1)"
   ]
  },
  {
   "cell_type": "markdown",
   "metadata": {},
   "source": [
    "#### What would happen if we run s2v4?\n",
    "This will throw an error as we haven't written the right exit conditions. Not writing exit conditions will either result in an error or infinite recursion."
   ]
  },
  {
   "cell_type": "code",
   "execution_count": 35,
   "metadata": {},
   "outputs": [
    {
     "ename": "RecursionError",
     "evalue": "maximum recursion depth exceeded",
     "output_type": "error",
     "traceback": [
      "\u001b[0;31m---------------------------------------------------------------------------\u001b[0m",
      "\u001b[0;31mRecursionError\u001b[0m                            Traceback (most recent call last)",
      "\u001b[0;32m<ipython-input-35-3c4ef948e3d0>\u001b[0m in \u001b[0;36m<module>\u001b[0;34m()\u001b[0m\n\u001b[0;32m----> 1\u001b[0;31m \u001b[0ms2v4\u001b[0m\u001b[0;34m(\u001b[0m\u001b[0;36m3\u001b[0m\u001b[0;34m)\u001b[0m\u001b[0;34m\u001b[0m\u001b[0;34m\u001b[0m\u001b[0m\n\u001b[0m",
      "\u001b[0;32m<ipython-input-34-42fa07be41bd>\u001b[0m in \u001b[0;36ms2v4\u001b[0;34m(step)\u001b[0m\n\u001b[1;32m      1\u001b[0m \u001b[0;32mdef\u001b[0m \u001b[0ms2v4\u001b[0m\u001b[0;34m(\u001b[0m\u001b[0mstep\u001b[0m\u001b[0;34m)\u001b[0m\u001b[0;34m:\u001b[0m\u001b[0;34m\u001b[0m\u001b[0;34m\u001b[0m\u001b[0m\n\u001b[0;32m----> 2\u001b[0;31m     \u001b[0;32mreturn\u001b[0m \u001b[0ms2v4\u001b[0m\u001b[0;34m(\u001b[0m\u001b[0mstep\u001b[0m\u001b[0;34m-\u001b[0m\u001b[0;36m2\u001b[0m\u001b[0;34m)\u001b[0m\u001b[0;34m+\u001b[0m\u001b[0ms2v4\u001b[0m\u001b[0;34m(\u001b[0m\u001b[0mstep\u001b[0m\u001b[0;34m-\u001b[0m\u001b[0;36m1\u001b[0m\u001b[0;34m)\u001b[0m\u001b[0;34m\u001b[0m\u001b[0;34m\u001b[0m\u001b[0m\n\u001b[0m",
      "... last 1 frames repeated, from the frame below ...\n",
      "\u001b[0;32m<ipython-input-34-42fa07be41bd>\u001b[0m in \u001b[0;36ms2v4\u001b[0;34m(step)\u001b[0m\n\u001b[1;32m      1\u001b[0m \u001b[0;32mdef\u001b[0m \u001b[0ms2v4\u001b[0m\u001b[0;34m(\u001b[0m\u001b[0mstep\u001b[0m\u001b[0;34m)\u001b[0m\u001b[0;34m:\u001b[0m\u001b[0;34m\u001b[0m\u001b[0;34m\u001b[0m\u001b[0m\n\u001b[0;32m----> 2\u001b[0;31m     \u001b[0;32mreturn\u001b[0m \u001b[0ms2v4\u001b[0m\u001b[0;34m(\u001b[0m\u001b[0mstep\u001b[0m\u001b[0;34m-\u001b[0m\u001b[0;36m2\u001b[0m\u001b[0;34m)\u001b[0m\u001b[0;34m+\u001b[0m\u001b[0ms2v4\u001b[0m\u001b[0;34m(\u001b[0m\u001b[0mstep\u001b[0m\u001b[0;34m-\u001b[0m\u001b[0;36m1\u001b[0m\u001b[0;34m)\u001b[0m\u001b[0;34m\u001b[0m\u001b[0;34m\u001b[0m\u001b[0m\n\u001b[0m",
      "\u001b[0;31mRecursionError\u001b[0m: maximum recursion depth exceeded"
     ]
    }
   ],
   "source": [
    "s2v4(3)"
   ]
  },
  {
   "cell_type": "markdown",
   "metadata": {},
   "source": [
    "#### This brings us to step 4. Write proper exit conditions!\n",
    "Now the trick to writing exit conditions is super simple. Once you have been able to find a structure of the code that is expressed as itself, you can simply hardcode the base conditions into the function at the start!\n",
    "\n",
    "We have 2 base conditions:\n",
    "* 1. f(0) = 0\n",
    "* 2. f(1) = 1\n",
    "\n",
    "Go ahead and hardcode them. Then you are pretty much done. "
   ]
  },
  {
   "cell_type": "code",
   "execution_count": 36,
   "metadata": {},
   "outputs": [],
   "source": [
    "def s2v5(step):\n",
    "    if step == 0: return 0 # base condition 1\n",
    "    if step == 1: return 1 # base condition 2\n",
    "    return s2v5(step-2)+s2v5(step-1)"
   ]
  },
  {
   "cell_type": "code",
   "execution_count": 38,
   "metadata": {},
   "outputs": [
    {
     "data": {
      "text/plain": [
       "[0, 1, 1, 2, 3, 5, 8, 13, 21, 34]"
      ]
     },
     "execution_count": 38,
     "metadata": {},
     "output_type": "execute_result"
    }
   ],
   "source": [
    "# You can use a simple list comprehension to check your recursion\n",
    "[s2v5(n) for n in range(10)]"
   ]
  },
  {
   "cell_type": "markdown",
   "metadata": {},
   "source": [
    "# Level: MEDIUM\n",
    "## String Reversal\n",
    "\n",
    "Given a string, use recursion to print its reverse.\n",
    "\n",
    "\"Shiv is cool\" should become \"looc si vihS\"\n",
    "\n",
    "This is a little different as the steps aren't immediately apparent to us! Go ahead anyways and define steps (even if you think they are wrong)\n",
    "\n",
    "Here is how we could do it:"
   ]
  },
  {
   "cell_type": "code",
   "execution_count": 45,
   "metadata": {},
   "outputs": [],
   "source": [
    "# format of naming: (s)tep (n) (v)ersion (r)\n",
    "def s0v0():return 'l'\n",
    "def s1v0():return 'lo'\n",
    "def s2v0(): return 'loo'"
   ]
  },
  {
   "cell_type": "markdown",
   "metadata": {},
   "source": [
    "#### Can we try to unify step 2 with step 1 and 0?"
   ]
  },
  {
   "cell_type": "code",
   "execution_count": 49,
   "metadata": {},
   "outputs": [
    {
     "data": {
      "text/plain": [
       "'loo'"
      ]
     },
     "execution_count": 49,
     "metadata": {},
     "output_type": "execute_result"
    }
   ],
   "source": [
    "def s2v1():\n",
    "    return s1v0()+'o'\n",
    "s2v1()\n",
    "# We don't even need step 0 here!"
   ]
  },
  {
   "cell_type": "markdown",
   "metadata": {},
   "source": [
    "#### In fact, this brings us to another lesson in unrolling a recursive equation:\n",
    "Always work with the number of steps that are required to produce the nth step. For a Fibonacci, you needed to express step n in terms of step n-1 and n-2. Here you can clearly see that we need to only express step n in terms of step n-1.\n",
    "\n",
    "The thumb rule should be that you always work with the base case and one step ahead of the base case!\n",
    "\n",
    "#### So let's ignore step 2 and work with step 0 and 1."
   ]
  },
  {
   "cell_type": "code",
   "execution_count": 51,
   "metadata": {},
   "outputs": [
    {
     "data": {
      "text/plain": [
       "'lo'"
      ]
     },
     "execution_count": 51,
     "metadata": {},
     "output_type": "execute_result"
    }
   ],
   "source": [
    "def s1v1():\n",
    "    return s0v0()+'o'\n",
    "s1v1()"
   ]
  },
  {
   "cell_type": "markdown",
   "metadata": {},
   "source": [
    "#### Now express step0 and step1 as a function of step.\n",
    "Here the step is not apparent. Usually, the input parameter should act as the step number. As long as you can derive the step number from the input parameters, we are good to go!\n",
    "\n",
    "Here we can pass in a string as a step id. Now if a string, \"step\" acts as an alias for step n then you gotta work on what does the string look like if you wanna get an alias for step n-1.\n",
    "\n",
    "An even better question would be, how is the string \"step\" used as an id in the nth step?\n",
    "We can clearly see that the hardcoded functions are using n-th last character from the end. Step 0 is using char(n-0) step 1 is using char(n-1) and so on. One way to encode this is by using the length of the string as one of the input params. But a better way would be to recognize that the remaining string is being used by the inner function (step0)."
   ]
  },
  {
   "cell_type": "code",
   "execution_count": 57,
   "metadata": {},
   "outputs": [],
   "source": [
    "def s0v1(string):\n",
    "    # returning the last charachter\n",
    "    return string[0]\n",
    "def s1v2(string):\n",
    "    # imagine this as: return func(\"tep\")+\"s\"\n",
    "    return s0v1(string[1:])+string[0]"
   ]
  },
  {
   "cell_type": "code",
   "execution_count": 58,
   "metadata": {},
   "outputs": [
    {
     "data": {
      "text/plain": [
       "'lo'"
      ]
     },
     "execution_count": 58,
     "metadata": {},
     "output_type": "execute_result"
    }
   ],
   "source": [
    "# Cool. We have reversed \"ol\"\n",
    "s1v2(\"ol\")"
   ]
  },
  {
   "cell_type": "markdown",
   "metadata": {},
   "source": [
    "#### Now we simple express s1v2 in its own terms and add an exit condition."
   ]
  },
  {
   "cell_type": "code",
   "execution_count": 65,
   "metadata": {},
   "outputs": [],
   "source": [
    "def s1v3(string):\n",
    "    if len(string) == 0: return \"\" # exit condition. When string ends return empty char\n",
    "    return s1v3(string[1:])+string[0]"
   ]
  },
  {
   "cell_type": "code",
   "execution_count": 66,
   "metadata": {},
   "outputs": [
    {
     "data": {
      "text/plain": [
       "'looc si vihS'"
      ]
     },
     "execution_count": 66,
     "metadata": {},
     "output_type": "execute_result"
    }
   ],
   "source": [
    "s1v3(\"Shiv is cool\")"
   ]
  },
  {
   "cell_type": "markdown",
   "metadata": {},
   "source": [
    "# Level: HARD AS F***\n",
    "## Minimum Cost Polygon Triangulation\n",
    "\n",
    "Just skip this section entirely if you are still completely new to programming and computer science in general. This deals with a pretty tough problem in recursion but will require patience. \n",
    "\n",
    "A triangulation of a convex polygon is formed by drawing diagonals between non-adjacent vertices (corners) such that the diagonals never intersect. The problem is to find the cost of triangulation with the minimum cost. The cost of triangulation is a sum of the weights of its component triangles. Weight of each triangle is its perimeter (sum of lengths of all sides)\n",
    "\n",
    "![alt text](https://media.geeksforgeeks.org/wp-content/uploads/triangulation.jpg \"Min Cost Triangulation\")\n",
    "\n",
    "* note that in the image the co-ordinate right of (0,0) should be (1,0) and not (1,2)\n",
    "\n",
    "(src: https://www.geeksforgeeks.org/minimum-cost-polygon-triangulation/)"
   ]
  },
  {
   "cell_type": "markdown",
   "metadata": {},
   "source": [
    "For the above-given polygon, the possible triangulations are given above.\n",
    "For example, we see that in both the polygons, we have 3 triangles and their cost will be something like this:"
   ]
  },
  {
   "cell_type": "code",
   "execution_count": 76,
   "metadata": {},
   "outputs": [
    {
     "data": {
      "text/plain": [
       "(15.30056307974577, 15.77269903474535)"
      ]
     },
     "execution_count": 76,
     "metadata": {},
     "output_type": "execute_result"
    }
   ],
   "source": [
    "import math\n",
    "def dist(c1,c2):\n",
    "    # standard distance formula\n",
    "    return math.sqrt((c1[0]-c2[0])**2+(c1[1]-c2[1])**2)\n",
    "\n",
    "# lambda to calculate perimeter of the triangle\n",
    "peri = lambda l: sum([dist(l[0], l[1]) + dist(l[1], l[2]) + dist(l[0], l[2])])\n",
    "\n",
    "# a list of 3 triangles with 3 tuples in each sub-list\n",
    "triangulation_left = [\n",
    "    [(0,2), (1,2), (0,0)], # tr 1\n",
    "    [(1,2), (0,0), (1,0)], # tr 2\n",
    "    [(1,2), (2,1), (1,0)] # tr 3\n",
    "]\n",
    "\n",
    "triangulation_right = [\n",
    "    [(0,2), (1,2), (0,0)], # tr1\n",
    "    [(1,2), (0,0), (2,1)], # tr 2\n",
    "    [(1,0), (2,1), (0,0)] # tr 3\n",
    "]\n",
    "\n",
    "# cost of left and right\n",
    "sum([peri(l) for l in triangulation_left]), sum([peri(l) for l in triangulation_right])\n",
    "\n",
    "# triangulation on the left is cheaper than triangulation on the right hence that's the answer"
   ]
  },
  {
   "cell_type": "markdown",
   "metadata": {},
   "source": [
    "#### What to do when recursion is not at all obvious?\n",
    "This problem looks completely different from the previous two and has no obvious hint for recursion. A good mental model to use here would be that of a \"generator\". Can you write a generator of sorts that can spit out the combination of all triangulations? Once you get all the triangulations you are pretty much good to go. You just need to find the cost of each triangulation and you will be sorted.\n",
    "\n",
    "One approach for a generator can be:\n",
    "* Select a point inside the polygon (can be any).\n",
    "* Draw a diagonal from that point to any other non-adj point and divide the poly into two polygons.\n",
    "* Assume you know the minimum triangulation for these polygons. Now, repeat the process until all diagonals are covered from that point.\n",
    "* Finally, get the costs out for each polygon and then pick the least as the answer.\n",
    "\n",
    "This will be computationally very heavy but we can ignore optimization for this part\n",
    "\n",
    "#### This can be better highlighted with the help of an example:\n",
    "\n",
    "Assume that (1,2) is the random starting point"
   ]
  },
  {
   "cell_type": "code",
   "execution_count": 96,
   "metadata": {},
   "outputs": [
    {
     "data": {
      "image/png": "[encoded data removed]",
      "text/plain": [
       "<Figure size 432x288 with 1 Axes>"
      ]
     },
     "metadata": {},
     "output_type": "display_data"
    }
   ],
   "source": [
    "import matplotlib.pyplot as plt\n",
    "coord = [(0,0), (0,2), (1,2), (2,1),(1,0)]\n",
    "coord.append(coord[0])\n",
    "xs, ys = zip(*coord)\n",
    "plt.figure()\n",
    "plt.plot(xs,ys)\n",
    "for i_x, i_y in zip(xs, ys):\n",
    "    plt.text(i_x, i_y, '({}, {})'.format(i_x, i_y))\n",
    "plt.show()"
   ]
  },
  {
   "cell_type": "markdown",
   "metadata": {},
   "source": [
    "#### Divide it into 2 polygons like this:"
   ]
  },
  {
   "cell_type": "markdown",
   "metadata": {},
   "source": [
    "### Poly 1"
   ]
  },
  {
   "cell_type": "code",
   "execution_count": 95,
   "metadata": {},
   "outputs": [
    {
     "data": {
      "image/png": "[encoded data removed]",
      "text/plain": [
       "<Figure size 432x288 with 1 Axes>"
      ]
     },
     "metadata": {},
     "output_type": "display_data"
    }
   ],
   "source": [
    "coord = [(0,0), (0,2), (1,2)]\n",
    "coord.append(coord[0])\n",
    "xs, ys = zip(*coord)\n",
    "plt.figure()\n",
    "plt.plot(xs,ys) \n",
    "for i_x, i_y in zip(xs, ys):\n",
    "    plt.text(i_x, i_y, '({}, {})'.format(i_x, i_y))\n",
    "plt.show()"
   ]
  },
  {
   "cell_type": "markdown",
   "metadata": {},
   "source": [
    "### Poly 2"
   ]
  },
  {
   "cell_type": "code",
   "execution_count": 94,
   "metadata": {},
   "outputs": [
    {
     "data": {
      "image/png": "[encoded data removed]",
      "text/plain": [
       "<Figure size 432x288 with 1 Axes>"
      ]
     },
     "metadata": {},
     "output_type": "display_data"
    }
   ],
   "source": [
    "coord = [(1,2), (2,1),(1,0), (0,0)]\n",
    "coord.append(coord[0])\n",
    "xs, ys = zip(*coord)\n",
    "plt.figure()\n",
    "plt.plot(xs,ys) \n",
    "for i_x, i_y in zip(xs, ys):\n",
    "    plt.text(i_x, i_y, '({}, {})'.format(i_x, i_y))\n",
    "plt.show()"
   ]
  },
  {
   "cell_type": "markdown",
   "metadata": {},
   "source": [
    "The above 2 polygons are equivalent to splitting the original polygon along the diagonal (1,2) and (0,0). At this point assume we have some magic function that already knows the minimum cost of these polygons. Then the problem is reduced to trying out all combinations of polygon split from the given vertex and maintaining a list of their cost."
   ]
  },
  {
   "cell_type": "code",
   "execution_count": 106,
   "metadata": {},
   "outputs": [
    {
     "name": "stdout",
     "output_type": "stream",
     "text": [
      "[(0, 0), (0, 2), (1, 2)]\n",
      "[(0, 0), (1, 2), (2, 1), (1, 0)]\n",
      "------------------------------\n",
      "[(0, 0), (0, 2), (1, 2), (2, 1)]\n",
      "[(0, 0), (2, 1), (1, 0)]\n",
      "------------------------------\n"
     ]
    }
   ],
   "source": [
    "# utopian function for min cost:\n",
    "def utopian(poly_list):\n",
    "    # this function doesn't exist yet\n",
    "    return 42\n",
    "\n",
    "coordinate_list = [(0,0), (0,2), (1,2), (2,1),(1,0)]\n",
    "pivot_coordinate = (0,0) # zeroth element of the list\n",
    "\n",
    "# two possible splits:\n",
    "for ind, coors in enumerate(coordinate_list[1:]):\n",
    "    poly1 = [pivot_coordinate]+coordinate_list[1:][:ind+2]\n",
    "    poly2 = [pivot_coordinate]+coordinate_list[1:][ind+1:]\n",
    "    if len(poly1) == len(coordinate_list) or len(poly1)< 3 or len(poly2) == len(coordinate_list) or len(poly2)< 3:\n",
    "        continue\n",
    "    print(poly1)\n",
    "    print(poly2)\n",
    "    print(\"------------------------------\")        "
   ]
  },
  {
   "cell_type": "markdown",
   "metadata": {},
   "source": [
    "It is quite easy to see how we could solve this problem now! If we can divide the polygons, then each polygon can be further subdivided recursively. This is how we can do it:"
   ]
  },
  {
   "cell_type": "code",
   "execution_count": 129,
   "metadata": {},
   "outputs": [],
   "source": [
    "def min_poly_sum(polygon_points):\n",
    "    # exit condition would be that when polygon only has 3 points, return its perimeter as the answer\n",
    "    if len(polygon_points) == 3:\n",
    "        return peri(polygon_points)\n",
    "    \n",
    "    # Keep shifting the pivot to cover all cases\n",
    "    for ind in range(len(polygon_points)):\n",
    "        pivot = polygon_points[0] # pick point 0 as the pivot\n",
    "        min_cost_list = []\n",
    "        for ind, coors in enumerate(polygon_points[1:]):\n",
    "            poly1 = [pivot]+polygon_points[1:][:ind+2]\n",
    "            poly2 = [pivot]+polygon_points[1:][ind+1:]\n",
    "            if len(poly1) == len(polygon_points) or len(poly1)< 3 or len(poly2) == len(polygon_points) or len(poly2)< 3:\n",
    "                continue\n",
    "            cost1 = min_poly_sum(poly1)\n",
    "            cost2 = min_poly_sum(poly2)\n",
    "            min_cost_list.append(cost1+cost2)\n",
    "        polygon_points = polygon_points[1:]+[polygon_points[0]]\n",
    "    return min(min_cost_list)"
   ]
  },
  {
   "cell_type": "code",
   "execution_count": 130,
   "metadata": {},
   "outputs": [
    {
     "name": "stdout",
     "output_type": "stream",
     "text": [
      "Min cost of triangulation is: 15.30056307974577\n",
      "Finished in:  0.0049707889556884766\n"
     ]
    }
   ],
   "source": [
    "import time\n",
    "start = time.time()\n",
    "print(\"Min cost of triangulation is:\",min_poly_sum(coordinate_list))\n",
    "print(\"Finished in: \", time.time()-start)"
   ]
  },
  {
   "cell_type": "markdown",
   "metadata": {},
   "source": [
    "# Conclusion\n",
    "Although the timing of the above problem might seem quite insignificant, it's actually inefficient with large polygons. This can be improved if intermediate computations can be saved temporarily and not computed. That's where dynamic programming comes in. Maybe I'll explore them some other time.\n",
    "\n",
    "![alt text](https://is1-ssl.mzstatic.com/image/thumb/Music118/v4/bd/b7/50/bdb750d9-a7cb-7db9-7ce8-2996bca2cdf0/cover.jpg/268x0w.jpg \"Logo Title Text 1\")\n",
    "\n",
    "\n"
   ]
  },
  {
   "cell_type": "code",
   "execution_count": null,
   "metadata": {},
   "outputs": [],
   "source": []
  }
 ],
 "metadata": {
  "kernelspec": {
   "display_name": "Python 3",
   "language": "python",
   "name": "python3"
  },
  "language_info": {
   "codemirror_mode": {
    "name": "ipython",
    "version": 3
   },
   "file_extension": ".py",
   "mimetype": "text/x-python",
   "name": "python",
   "nbconvert_exporter": "python",
   "pygments_lexer": "ipython3",
   "version": "3.6.8"
  }
 },
 "nbformat": 4,
 "nbformat_minor": 2
}
