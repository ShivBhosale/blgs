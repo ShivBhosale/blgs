{
 "cells": [
  {
   "cell_type": "markdown",
   "metadata": {},
   "source": [
    "# Notebook for practicing pySpark\n",
    "\n",
    "resource: https://runawayhorse001.github.io/LearningApacheSpark/pyspark.pdf\n",
    "\n",
    "Goal: Complete everything till page 52"
   ]
  },
  {
   "cell_type": "code",
   "execution_count": 1,
   "metadata": {},
   "outputs": [],
   "source": [
    "import pandas as pd\n",
    "from pyspark.sql import SparkSession\n",
    "from pyspark.sql import functions as F\n",
    "\n",
    "# you can access all the contexts via spark session. No need to have a separate \n",
    "# context for spark, sql, streaming, hive etc\n",
    "spark = SparkSession\\\n",
    "                .builder.appName(\"My First Spark App\")\\\n",
    "                .config(\"spark.executors.cores\", \"4\")\\\n",
    "                .config(\"spark.executors.memory\", \"10g\")\\\n",
    "                .getOrCreate()\n",
    "# help(SparkSession.builder.config)"
   ]
  },
  {
   "cell_type": "code",
   "execution_count": 2,
   "metadata": {},
   "outputs": [],
   "source": [
    "data = [[1,2,3,\"mom\"],\n",
    "       [2,3,4, \"dad\"],\n",
    "       [3,4,5,\"mistress\"],\n",
    "       [5,6,7, \"jon snow\"]]\n",
    "\n",
    "cols = ['A', 'B', 'C', 'Crime']\n",
    "p_df = pd.DataFrame(data, columns=cols)\n",
    "s_df = spark.createDataFrame(data, schema=cols)"
   ]
  },
  {
   "cell_type": "code",
   "execution_count": 3,
   "metadata": {},
   "outputs": [
    {
     "data": {
      "text/html": [
       "<div>\n",
       "<style scoped>\n",
       "    .dataframe tbody tr th:only-of-type {\n",
       "        vertical-align: middle;\n",
       "    }\n",
       "\n",
       "    .dataframe tbody tr th {\n",
       "        vertical-align: top;\n",
       "    }\n",
       "\n",
       "    .dataframe thead th {\n",
       "        text-align: right;\n",
       "    }\n",
       "</style>\n",
       "<table border=\"1\" class=\"dataframe\">\n",
       "  <thead>\n",
       "    <tr style=\"text-align: right;\">\n",
       "      <th></th>\n",
       "      <th>A</th>\n",
       "      <th>B</th>\n",
       "      <th>C</th>\n",
       "      <th>Crime</th>\n",
       "    </tr>\n",
       "  </thead>\n",
       "  <tbody>\n",
       "    <tr>\n",
       "      <th>0</th>\n",
       "      <td>1</td>\n",
       "      <td>2</td>\n",
       "      <td>3</td>\n",
       "      <td>mom</td>\n",
       "    </tr>\n",
       "    <tr>\n",
       "      <th>1</th>\n",
       "      <td>2</td>\n",
       "      <td>3</td>\n",
       "      <td>4</td>\n",
       "      <td>dad</td>\n",
       "    </tr>\n",
       "    <tr>\n",
       "      <th>2</th>\n",
       "      <td>3</td>\n",
       "      <td>4</td>\n",
       "      <td>5</td>\n",
       "      <td>mistress</td>\n",
       "    </tr>\n",
       "    <tr>\n",
       "      <th>3</th>\n",
       "      <td>5</td>\n",
       "      <td>6</td>\n",
       "      <td>7</td>\n",
       "      <td>jon snow</td>\n",
       "    </tr>\n",
       "  </tbody>\n",
       "</table>\n",
       "</div>"
      ],
      "text/plain": [
       "   A  B  C     Crime\n",
       "0  1  2  3       mom\n",
       "1  2  3  4       dad\n",
       "2  3  4  5  mistress\n",
       "3  5  6  7  jon snow"
      ]
     },
     "execution_count": 3,
     "metadata": {},
     "output_type": "execute_result"
    }
   ],
   "source": [
    "p_df"
   ]
  },
  {
   "cell_type": "code",
   "execution_count": 4,
   "metadata": {},
   "outputs": [
    {
     "name": "stdout",
     "output_type": "stream",
     "text": [
      "+---+---+---+--------+\n",
      "|  A|  B|  C|   Crime|\n",
      "+---+---+---+--------+\n",
      "|  1|  2|  3|     mom|\n",
      "|  2|  3|  4|     dad|\n",
      "|  3|  4|  5|mistress|\n",
      "|  5|  6|  7|jon snow|\n",
      "+---+---+---+--------+\n",
      "\n"
     ]
    }
   ],
   "source": [
    "s_df.show()"
   ]
  },
  {
   "cell_type": "code",
   "execution_count": 5,
   "metadata": {},
   "outputs": [
    {
     "data": {
      "text/plain": [
       "(pyspark.sql.dataframe.DataFrame, pandas.core.frame.DataFrame)"
      ]
     },
     "execution_count": 5,
     "metadata": {},
     "output_type": "execute_result"
    }
   ],
   "source": [
    "type(s_df), type(p_df)"
   ]
  },
  {
   "cell_type": "code",
   "execution_count": 6,
   "metadata": {},
   "outputs": [],
   "source": [
    "# how to create an rdd:\n",
    "rdd1 = spark.sparkContext.parallelize(data)"
   ]
  },
  {
   "cell_type": "code",
   "execution_count": 7,
   "metadata": {},
   "outputs": [
    {
     "data": {
      "text/plain": [
       "pyspark.rdd.RDD"
      ]
     },
     "execution_count": 7,
     "metadata": {},
     "output_type": "execute_result"
    }
   ],
   "source": [
    "type(rdd1)"
   ]
  },
  {
   "cell_type": "code",
   "execution_count": 8,
   "metadata": {},
   "outputs": [
    {
     "data": {
      "text/plain": [
       "pyspark.sql.dataframe.DataFrame"
      ]
     },
     "execution_count": 8,
     "metadata": {},
     "output_type": "execute_result"
    }
   ],
   "source": [
    "# This will convert it into a dataframe\n",
    "type(rdd1.toDF(cols)) "
   ]
  },
  {
   "cell_type": "code",
   "execution_count": 9,
   "metadata": {},
   "outputs": [
    {
     "data": {
      "text/plain": [
       "[[1, 2, 3, 'mom'],\n",
       " [2, 3, 4, 'dad'],\n",
       " [3, 4, 5, 'mistress'],\n",
       " [5, 6, 7, 'jon snow']]"
      ]
     },
     "execution_count": 9,
     "metadata": {},
     "output_type": "execute_result"
    }
   ],
   "source": [
    "rdd1.collect()"
   ]
  },
  {
   "cell_type": "code",
   "execution_count": 10,
   "metadata": {},
   "outputs": [
    {
     "data": {
      "text/plain": [
       "ParallelCollectionRDD[9] at parallelize at PythonRDD.scala:175"
      ]
     },
     "execution_count": 10,
     "metadata": {},
     "output_type": "execute_result"
    }
   ],
   "source": [
    "rdd1"
   ]
  },
  {
   "cell_type": "markdown",
   "metadata": {},
   "source": [
    "###  A test to see what data structures are supported by RDDs"
   ]
  },
  {
   "cell_type": "code",
   "execution_count": 13,
   "metadata": {},
   "outputs": [
    {
     "data": {
      "text/plain": [
       "[[[1], [2], [3]], 'test']"
      ]
     },
     "execution_count": 13,
     "metadata": {},
     "output_type": "execute_result"
    }
   ],
   "source": [
    "data_diverse = [[[1], [2], [3]],\n",
    "                   \"test\"]\n",
    "rdd_div = spark.sparkContext.parallelize(data_diverse)\n",
    "rdd_div.collect()"
   ]
  },
  {
   "cell_type": "code",
   "execution_count": 37,
   "metadata": {},
   "outputs": [
    {
     "data": {
      "text/plain": [
       "[Row(A=1, B=2, C=3, Crime='mom'),\n",
       " Row(A=2, B=3, C=4, Crime='dad'),\n",
       " Row(A=3, B=4, C=5, Crime='mistress'),\n",
       " Row(A=5, B=6, C=7, Crime='jon snow')]"
      ]
     },
     "execution_count": 37,
     "metadata": {},
     "output_type": "execute_result"
    }
   ],
   "source": [
    "s_df.collect()"
   ]
  },
  {
   "cell_type": "code",
   "execution_count": null,
   "metadata": {},
   "outputs": [],
   "source": [
    "# reading a csv"
   ]
  },
  {
   "cell_type": "code",
   "execution_count": 49,
   "metadata": {},
   "outputs": [],
   "source": [
    "# gotta add the header =True tag to use a header else it will break\n",
    "s_csv_df = spark.read.format('csv')\\\n",
    "                                .options(header=True)\\\n",
    "                                .load(\"/home/shiv/projects/cnk/datasets/phase2/Results/PositiveData_Tourico_14May.csv\")"
   ]
  },
  {
   "cell_type": "code",
   "execution_count": 53,
   "metadata": {},
   "outputs": [
    {
     "name": "stdout",
     "output_type": "stream",
     "text": [
      "+--------------------+--------------------+------------------------+--------------------+---------------+--------------------+----------------+-------------------+-------------------+-------------------------------+--------------------+------------+-----------+-----------+--------------------------------------+--------------------+--------------------+------------+--------------+--------------------+----------------------+----------------------+--------------------+--------------------+-------------------------+--------+-----------------------+----------+--------------+-----------------+----------+--------------+--------------+-------------------+------------+--------------------+----------------------+---------------------+--------------------+----------------------+-----------------+--------------------+--------------------+------------+-------------------------------+-----------------------------+--------------------+--------------------+--------------------+-------------+-------------+---------------+----------------+-----------------------+-------------------+\n",
      "|    SupplierRoomName|        AccoRoomName|SupplierCompoundRoomName|AccoCompoundRoomName|SimilarityScore|SupplierRoomCategory|SupplierRoomView|SupplierRoomBedType|SupplierRoomSmoking|SupplierRoomExtractedAttributes|    AccoRoomCategory|AccoRoomView|AccoBedType|AccoSmoking|AccommodationSupplierRoomTypeMappingId|     AccommodationId|          SupplierId|SupplierName|SupplierRoomId|SupplierRoomTypeCode|SupplierRoomCreateDate|SupplierRoomCreateUser|SupplierRoomEditDate|SupplierRoomEditUser|SupplierRoomMappingStatus|   MapId|AccommodationRoomInfoId|TLGXAccoId|TLGXAccoRoomId|TLGXCommonHotelId|AccoRoomId|AccoCreateDate|AccoCreateUser|       AccoEditDate|AccoEditUser|          TXRoomName|SupplierRoomCategoryId|SupplierRoomMaxAdults|SupplierRoomMaxChild|SupplierRoomMaxInfants|MaxGuestOccupancy|SupplierRoomQuantity|SupplierRoomRatePlan|RatePlanCode|SupplierRoomSupplierProductName|SupplierRoomSupplierProductId|      TxStrippedName|     TxReorderedName|SupplierRoomRoomSize|AccoRoomDecor|AccoFloorName|AccoFloorNumber|AccoBathRoomType|AccoCompanyRoomCategory|SimilarityIndicator|\n",
      "+--------------------+--------------------+------------------------+--------------------+---------------+--------------------+----------------+-------------------+-------------------+-------------------------------+--------------------+------------+-----------+-----------+--------------------------------------+--------------------+--------------------+------------+--------------+--------------------+----------------------+----------------------+--------------------+--------------------+-------------------------+--------+-----------------------+----------+--------------+-----------------+----------+--------------+--------------+-------------------+------------+--------------------+----------------------+---------------------+--------------------+----------------------+-----------------+--------------------+--------------------+------------+-------------------------------+-----------------------------+--------------------+--------------------+--------------------+-------------+-------------+---------------+----------------+-----------------------+-------------------+\n",
      "|Regency Ste King ...|Regency Suite Kin...|    regency ste king ...|regency suite kin...|              1|       regency suite|            null|           King Bed|               null|           [{'Key': 'BOARD-B...|Regency Suite Kin...|        null|   King Bed| nonsmoking|                  9cd36b7a-3cea-430...|5acdd190-cdbd-11e...|c6f2f7ae-5ae2-48b...|     Tourico|          null|            16347794|   24-03-2018 00:00:00|                  TLGX| 03-03-2019 08:34:04|hemendra.hada@uni...|                   MAPPED|18346051|   de6f2847-5bdc-4c7...| ACCO11525|ACCOROOM587988|           139664| 201300347|          null|       EAN_MIG|22-11-2018 12:21:03|    MDM_Sync|REGENCY SUITE KIN...|                  null|                 null|                null|                  null|                3|                   0|                null|        null|           Hyatt Regency Bel...|                      1040049|  REGENCY SUITE KING|  REGENCY SUITE KING|                null|         null|         null|           null|            null|                   null|               True|\n",
      "|1 Kg Club Access ...|Club Room, 1 King...|    1 kg club access ...|club room 1 king ...|              1|                null|            null|            1 KING |               null|           [{'Key': 'INTERNE...|           Club Room|        null|   King Bed| nonsmoking|                  df25a998-369e-4dc...|53aabb81-cdb2-11e...|c6f2f7ae-5ae2-48b...|     Tourico|          null|            15031981|   24-03-2018 00:00:00|                  TLGX| 04-03-2019 16:47:44|vishal.jangid@uni...|                   MAPPED|   41088|   094bc267-bbf9-4fc...| ACCO28563|ACCOROOM171644|           107231| 200223720|          null|       EAN_MIG|22-11-2018 12:21:03|    MDM_Sync|1 KING CLUB ACCES...|                  null|                 null|                null|                  null|                3|                   0|                null|        null|           Hyatt Regency Che...|                      1476005|              1 KING|              1 KING|                null|         null|         null|           null|            null|                   null|               True|\n",
      "|1 KG CLUB ACCESS ...|Club Room, 1 King...|    1 kg club access ...|club room 1 king ...|              1|                null|            null|            1 KING |               null|           [{'Key': 'BED-TYP...|           Club Room|        null|   King Bed| nonsmoking|                  b379b448-d6ed-418...|53aabb81-cdb2-11e...|c6f2f7ae-5ae2-48b...|     Tourico|          null|            17093337|   24-03-2018 00:00:00|                  TLGX| 04-03-2019 16:48:15|vishal.jangid@uni...|                   MAPPED|14406892|   094bc267-bbf9-4fc...| ACCO28563|ACCOROOM171644|           107231| 200223720|          null|       EAN_MIG|22-11-2018 12:21:03|    MDM_Sync|1 KING CLUB ACCES...|                  null|                 null|                null|                  null|                3|                   0|                null|        null|           Hyatt Regency Che...|                      1476005|1 KING 4 6 NIGHT ...|1 KING 4 6 NIGHT ...|                null|         null|         null|           null|            null|                   null|               True|\n",
      "+--------------------+--------------------+------------------------+--------------------+---------------+--------------------+----------------+-------------------+-------------------+-------------------------------+--------------------+------------+-----------+-----------+--------------------------------------+--------------------+--------------------+------------+--------------+--------------------+----------------------+----------------------+--------------------+--------------------+-------------------------+--------+-----------------------+----------+--------------+-----------------+----------+--------------+--------------+-------------------+------------+--------------------+----------------------+---------------------+--------------------+----------------------+-----------------+--------------------+--------------------+------------+-------------------------------+-----------------------------+--------------------+--------------------+--------------------+-------------+-------------+---------------+----------------+-----------------------+-------------------+\n",
      "only showing top 3 rows\n",
      "\n"
     ]
    }
   ],
   "source": [
    "s_csv_df.show(n=3)\n",
    "# n is no of rows to display"
   ]
  },
  {
   "cell_type": "code",
   "execution_count": 54,
   "metadata": {},
   "outputs": [
    {
     "name": "stdout",
     "output_type": "stream",
     "text": [
      "root\n",
      " |-- SupplierRoomName: string (nullable = true)\n",
      " |-- AccoRoomName: string (nullable = true)\n",
      " |-- SupplierCompoundRoomName: string (nullable = true)\n",
      " |-- AccoCompoundRoomName: string (nullable = true)\n",
      " |-- SimilarityScore: string (nullable = true)\n",
      " |-- SupplierRoomCategory: string (nullable = true)\n",
      " |-- SupplierRoomView: string (nullable = true)\n",
      " |-- SupplierRoomBedType: string (nullable = true)\n",
      " |-- SupplierRoomSmoking: string (nullable = true)\n",
      " |-- SupplierRoomExtractedAttributes: string (nullable = true)\n",
      " |-- AccoRoomCategory: string (nullable = true)\n",
      " |-- AccoRoomView: string (nullable = true)\n",
      " |-- AccoBedType: string (nullable = true)\n",
      " |-- AccoSmoking: string (nullable = true)\n",
      " |-- AccommodationSupplierRoomTypeMappingId: string (nullable = true)\n",
      " |-- AccommodationId: string (nullable = true)\n",
      " |-- SupplierId: string (nullable = true)\n",
      " |-- SupplierName: string (nullable = true)\n",
      " |-- SupplierRoomId: string (nullable = true)\n",
      " |-- SupplierRoomTypeCode: string (nullable = true)\n",
      " |-- SupplierRoomCreateDate: string (nullable = true)\n",
      " |-- SupplierRoomCreateUser: string (nullable = true)\n",
      " |-- SupplierRoomEditDate: string (nullable = true)\n",
      " |-- SupplierRoomEditUser: string (nullable = true)\n",
      " |-- SupplierRoomMappingStatus: string (nullable = true)\n",
      " |-- MapId: string (nullable = true)\n",
      " |-- AccommodationRoomInfoId: string (nullable = true)\n",
      " |-- TLGXAccoId: string (nullable = true)\n",
      " |-- TLGXAccoRoomId: string (nullable = true)\n",
      " |-- TLGXCommonHotelId: string (nullable = true)\n",
      " |-- AccoRoomId: string (nullable = true)\n",
      " |-- AccoCreateDate: string (nullable = true)\n",
      " |-- AccoCreateUser: string (nullable = true)\n",
      " |-- AccoEditDate: string (nullable = true)\n",
      " |-- AccoEditUser: string (nullable = true)\n",
      " |-- TXRoomName: string (nullable = true)\n",
      " |-- SupplierRoomCategoryId: string (nullable = true)\n",
      " |-- SupplierRoomMaxAdults: string (nullable = true)\n",
      " |-- SupplierRoomMaxChild: string (nullable = true)\n",
      " |-- SupplierRoomMaxInfants: string (nullable = true)\n",
      " |-- MaxGuestOccupancy: string (nullable = true)\n",
      " |-- SupplierRoomQuantity: string (nullable = true)\n",
      " |-- SupplierRoomRatePlan: string (nullable = true)\n",
      " |-- RatePlanCode: string (nullable = true)\n",
      " |-- SupplierRoomSupplierProductName: string (nullable = true)\n",
      " |-- SupplierRoomSupplierProductId: string (nullable = true)\n",
      " |-- TxStrippedName: string (nullable = true)\n",
      " |-- TxReorderedName: string (nullable = true)\n",
      " |-- SupplierRoomRoomSize: string (nullable = true)\n",
      " |-- AccoRoomDecor: string (nullable = true)\n",
      " |-- AccoFloorName: string (nullable = true)\n",
      " |-- AccoFloorNumber: string (nullable = true)\n",
      " |-- AccoBathRoomType: string (nullable = true)\n",
      " |-- AccoCompanyRoomCategory: string (nullable = true)\n",
      " |-- SimilarityIndicator: string (nullable = true)\n",
      "\n"
     ]
    }
   ],
   "source": [
    "s_csv_df.printSchema()"
   ]
  },
  {
   "cell_type": "code",
   "execution_count": 56,
   "metadata": {},
   "outputs": [
    {
     "data": {
      "text/plain": [
       "(   A  B  C     Crime\n",
       " 0  1  2  3       mom\n",
       " 1  2  3  4       dad\n",
       " 2  3  4  5  mistress\n",
       " 3  5  6  7  jon snow,\n",
       " DataFrame[A: bigint, B: bigint, C: bigint, Crime: string])"
      ]
     },
     "execution_count": 56,
     "metadata": {},
     "output_type": "execute_result"
    }
   ],
   "source": [
    "# renaming a column in pandas and spark\n",
    "p_df, s_df"
   ]
  },
  {
   "cell_type": "code",
   "execution_count": 57,
   "metadata": {},
   "outputs": [
    {
     "data": {
      "text/html": [
       "<div>\n",
       "<style scoped>\n",
       "    .dataframe tbody tr th:only-of-type {\n",
       "        vertical-align: middle;\n",
       "    }\n",
       "\n",
       "    .dataframe tbody tr th {\n",
       "        vertical-align: top;\n",
       "    }\n",
       "\n",
       "    .dataframe thead th {\n",
       "        text-align: right;\n",
       "    }\n",
       "</style>\n",
       "<table border=\"1\" class=\"dataframe\">\n",
       "  <thead>\n",
       "    <tr style=\"text-align: right;\">\n",
       "      <th></th>\n",
       "      <th>RenamedColumn</th>\n",
       "      <th>B</th>\n",
       "      <th>C</th>\n",
       "      <th>Crime</th>\n",
       "    </tr>\n",
       "  </thead>\n",
       "  <tbody>\n",
       "    <tr>\n",
       "      <th>0</th>\n",
       "      <td>1</td>\n",
       "      <td>2</td>\n",
       "      <td>3</td>\n",
       "      <td>mom</td>\n",
       "    </tr>\n",
       "    <tr>\n",
       "      <th>1</th>\n",
       "      <td>2</td>\n",
       "      <td>3</td>\n",
       "      <td>4</td>\n",
       "      <td>dad</td>\n",
       "    </tr>\n",
       "    <tr>\n",
       "      <th>2</th>\n",
       "      <td>3</td>\n",
       "      <td>4</td>\n",
       "      <td>5</td>\n",
       "      <td>mistress</td>\n",
       "    </tr>\n",
       "    <tr>\n",
       "      <th>3</th>\n",
       "      <td>5</td>\n",
       "      <td>6</td>\n",
       "      <td>7</td>\n",
       "      <td>jon snow</td>\n",
       "    </tr>\n",
       "  </tbody>\n",
       "</table>\n",
       "</div>"
      ],
      "text/plain": [
       "   RenamedColumn  B  C     Crime\n",
       "0              1  2  3       mom\n",
       "1              2  3  4       dad\n",
       "2              3  4  5  mistress\n",
       "3              5  6  7  jon snow"
      ]
     },
     "execution_count": 57,
     "metadata": {},
     "output_type": "execute_result"
    }
   ],
   "source": [
    "mapping = {'A':'RenamedColumn'}\n",
    "p_df.rename(columns=mapping, inplace = True)\n",
    "p_df"
   ]
  },
  {
   "cell_type": "code",
   "execution_count": 58,
   "metadata": {},
   "outputs": [
    {
     "data": {
      "text/plain": [
       "['RenamedColumn', 'B', 'C', 'Crime']"
      ]
     },
     "execution_count": 58,
     "metadata": {},
     "output_type": "execute_result"
    }
   ],
   "source": [
    "renaming = [mapping.get(col, col) for col in s_df.columns]\n",
    "# s_df.toDF()\n",
    "renaming"
   ]
  },
  {
   "cell_type": "code",
   "execution_count": 69,
   "metadata": {},
   "outputs": [
    {
     "name": "stdout",
     "output_type": "stream",
     "text": [
      "+-------------+---+---+--------+\n",
      "|RenamedColumn|  B|  C|   Crime|\n",
      "+-------------+---+---+--------+\n",
      "|            1|  2|  3|     mom|\n",
      "|            2|  3|  4|     dad|\n",
      "|            3|  4|  5|mistress|\n",
      "|            5|  6|  7|jon snow|\n",
      "+-------------+---+---+--------+\n",
      "\n"
     ]
    }
   ],
   "source": [
    "s_df.toDF(*renaming).show()"
   ]
  },
  {
   "cell_type": "code",
   "execution_count": 70,
   "metadata": {},
   "outputs": [
    {
     "name": "stdout",
     "output_type": "stream",
     "text": [
      "+---+-----------+---+--------+\n",
      "|  A|NewNameForB|  C|   Crime|\n",
      "+---+-----------+---+--------+\n",
      "|  1|          2|  3|     mom|\n",
      "|  2|          3|  4|     dad|\n",
      "|  3|          4|  5|mistress|\n",
      "|  5|          6|  7|jon snow|\n",
      "+---+-----------+---+--------+\n",
      "\n"
     ]
    }
   ],
   "source": [
    "# method 2\n",
    "s_df.withColumnRenamed('B', 'NewNameForB').show()"
   ]
  },
  {
   "cell_type": "code",
   "execution_count": 71,
   "metadata": {},
   "outputs": [
    {
     "data": {
      "text/html": [
       "<div>\n",
       "<style scoped>\n",
       "    .dataframe tbody tr th:only-of-type {\n",
       "        vertical-align: middle;\n",
       "    }\n",
       "\n",
       "    .dataframe tbody tr th {\n",
       "        vertical-align: top;\n",
       "    }\n",
       "\n",
       "    .dataframe thead th {\n",
       "        text-align: right;\n",
       "    }\n",
       "</style>\n",
       "<table border=\"1\" class=\"dataframe\">\n",
       "  <thead>\n",
       "    <tr style=\"text-align: right;\">\n",
       "      <th></th>\n",
       "      <th>RenamedColumn</th>\n",
       "      <th>C</th>\n",
       "      <th>Crime</th>\n",
       "    </tr>\n",
       "  </thead>\n",
       "  <tbody>\n",
       "    <tr>\n",
       "      <th>0</th>\n",
       "      <td>1</td>\n",
       "      <td>3</td>\n",
       "      <td>mom</td>\n",
       "    </tr>\n",
       "    <tr>\n",
       "      <th>1</th>\n",
       "      <td>2</td>\n",
       "      <td>4</td>\n",
       "      <td>dad</td>\n",
       "    </tr>\n",
       "    <tr>\n",
       "      <th>2</th>\n",
       "      <td>3</td>\n",
       "      <td>5</td>\n",
       "      <td>mistress</td>\n",
       "    </tr>\n",
       "    <tr>\n",
       "      <th>3</th>\n",
       "      <td>5</td>\n",
       "      <td>7</td>\n",
       "      <td>jon snow</td>\n",
       "    </tr>\n",
       "  </tbody>\n",
       "</table>\n",
       "</div>"
      ],
      "text/plain": [
       "   RenamedColumn  C     Crime\n",
       "0              1  3       mom\n",
       "1              2  4       dad\n",
       "2              3  5  mistress\n",
       "3              5  7  jon snow"
      ]
     },
     "execution_count": 71,
     "metadata": {},
     "output_type": "execute_result"
    }
   ],
   "source": [
    "# dropping columns\n",
    "p_df.drop(columns=['B'])"
   ]
  },
  {
   "cell_type": "code",
   "execution_count": 77,
   "metadata": {},
   "outputs": [
    {
     "name": "stdout",
     "output_type": "stream",
     "text": [
      "+---+--------+\n",
      "|  C|   Crime|\n",
      "+---+--------+\n",
      "|  3|     mom|\n",
      "|  4|     dad|\n",
      "|  5|mistress|\n",
      "|  7|jon snow|\n",
      "+---+--------+\n",
      "\n"
     ]
    }
   ],
   "source": [
    "s_df.drop(*['B', 'A']).show() # dropping multiple of them"
   ]
  },
  {
   "cell_type": "code",
   "execution_count": 78,
   "metadata": {},
   "outputs": [
    {
     "data": {
      "text/html": [
       "<div>\n",
       "<style scoped>\n",
       "    .dataframe tbody tr th:only-of-type {\n",
       "        vertical-align: middle;\n",
       "    }\n",
       "\n",
       "    .dataframe tbody tr th {\n",
       "        vertical-align: top;\n",
       "    }\n",
       "\n",
       "    .dataframe thead th {\n",
       "        text-align: right;\n",
       "    }\n",
       "</style>\n",
       "<table border=\"1\" class=\"dataframe\">\n",
       "  <thead>\n",
       "    <tr style=\"text-align: right;\">\n",
       "      <th></th>\n",
       "      <th>RenamedColumn</th>\n",
       "      <th>B</th>\n",
       "      <th>C</th>\n",
       "      <th>Crime</th>\n",
       "    </tr>\n",
       "  </thead>\n",
       "  <tbody>\n",
       "    <tr>\n",
       "      <th>0</th>\n",
       "      <td>1</td>\n",
       "      <td>2</td>\n",
       "      <td>3</td>\n",
       "      <td>mom</td>\n",
       "    </tr>\n",
       "  </tbody>\n",
       "</table>\n",
       "</div>"
      ],
      "text/plain": [
       "   RenamedColumn  B  C Crime\n",
       "0              1  2  3   mom"
      ]
     },
     "execution_count": 78,
     "metadata": {},
     "output_type": "execute_result"
    }
   ],
   "source": [
    "# filters in dataframes are same as filters in pandas dataframes\n",
    "\n",
    "p_df[p_df.Crime == 'mom']"
   ]
  },
  {
   "cell_type": "code",
   "execution_count": 80,
   "metadata": {},
   "outputs": [
    {
     "name": "stdout",
     "output_type": "stream",
     "text": [
      "+---+---+---+-----+\n",
      "|  A|  B|  C|Crime|\n",
      "+---+---+---+-----+\n",
      "|  1|  2|  3|  mom|\n",
      "+---+---+---+-----+\n",
      "\n"
     ]
    }
   ],
   "source": [
    "s_df[s_df.Crime == 'mom'].show()"
   ]
  },
  {
   "cell_type": "code",
   "execution_count": 81,
   "metadata": {},
   "outputs": [],
   "source": [
    "# lambdas adn withColumns\n",
    "p_df['C_norm'] = p_df.C/p_df.C.sum()"
   ]
  },
  {
   "cell_type": "code",
   "execution_count": 82,
   "metadata": {},
   "outputs": [
    {
     "data": {
      "text/html": [
       "<div>\n",
       "<style scoped>\n",
       "    .dataframe tbody tr th:only-of-type {\n",
       "        vertical-align: middle;\n",
       "    }\n",
       "\n",
       "    .dataframe tbody tr th {\n",
       "        vertical-align: top;\n",
       "    }\n",
       "\n",
       "    .dataframe thead th {\n",
       "        text-align: right;\n",
       "    }\n",
       "</style>\n",
       "<table border=\"1\" class=\"dataframe\">\n",
       "  <thead>\n",
       "    <tr style=\"text-align: right;\">\n",
       "      <th></th>\n",
       "      <th>RenamedColumn</th>\n",
       "      <th>B</th>\n",
       "      <th>C</th>\n",
       "      <th>Crime</th>\n",
       "      <th>C_norm</th>\n",
       "    </tr>\n",
       "  </thead>\n",
       "  <tbody>\n",
       "    <tr>\n",
       "      <th>0</th>\n",
       "      <td>1</td>\n",
       "      <td>2</td>\n",
       "      <td>3</td>\n",
       "      <td>mom</td>\n",
       "      <td>0.157895</td>\n",
       "    </tr>\n",
       "    <tr>\n",
       "      <th>1</th>\n",
       "      <td>2</td>\n",
       "      <td>3</td>\n",
       "      <td>4</td>\n",
       "      <td>dad</td>\n",
       "      <td>0.210526</td>\n",
       "    </tr>\n",
       "    <tr>\n",
       "      <th>2</th>\n",
       "      <td>3</td>\n",
       "      <td>4</td>\n",
       "      <td>5</td>\n",
       "      <td>mistress</td>\n",
       "      <td>0.263158</td>\n",
       "    </tr>\n",
       "    <tr>\n",
       "      <th>3</th>\n",
       "      <td>5</td>\n",
       "      <td>6</td>\n",
       "      <td>7</td>\n",
       "      <td>jon snow</td>\n",
       "      <td>0.368421</td>\n",
       "    </tr>\n",
       "  </tbody>\n",
       "</table>\n",
       "</div>"
      ],
      "text/plain": [
       "   RenamedColumn  B  C     Crime    C_norm\n",
       "0              1  2  3       mom  0.157895\n",
       "1              2  3  4       dad  0.210526\n",
       "2              3  4  5  mistress  0.263158\n",
       "3              5  6  7  jon snow  0.368421"
      ]
     },
     "execution_count": 82,
     "metadata": {},
     "output_type": "execute_result"
    }
   ],
   "source": [
    "p_df"
   ]
  },
  {
   "cell_type": "code",
   "execution_count": 91,
   "metadata": {},
   "outputs": [
    {
     "name": "stdout",
     "output_type": "stream",
     "text": [
      "+---+---+---+--------+-------------------+\n",
      "|  A|  B|  C|   Crime|             C_norm|\n",
      "+---+---+---+--------+-------------------+\n",
      "|  1|  2|  3|     mom|0.15789473684210525|\n",
      "|  2|  3|  4|     dad|0.21052631578947367|\n",
      "|  3|  4|  5|mistress| 0.2631578947368421|\n",
      "|  5|  6|  7|jon snow| 0.3684210526315789|\n",
      "+---+---+---+--------+-------------------+\n",
      "\n"
     ]
    }
   ],
   "source": [
    "# column name, lambda\n",
    "C_sum = s_df.groupBy().agg(F.sum('C')).collect()[0][0]\n",
    "s_df.withColumn('C_norm', s_df.C/C_sum).show()"
   ]
  },
  {
   "cell_type": "markdown",
   "metadata": {},
   "source": [
    "### sql.fucntions contains a lot of standard math functionalities that we can apply on the columns"
   ]
  },
  {
   "cell_type": "code",
   "execution_count": 93,
   "metadata": {},
   "outputs": [
    {
     "name": "stdout",
     "output_type": "stream",
     "text": [
      "+---+---+---+--------+---------+\n",
      "|  A|  B|  C|   Crime| concated|\n",
      "+---+---+---+--------+---------+\n",
      "|  1|  2|  3|     mom|     1mom|\n",
      "|  2|  3|  4|     dad|     2dad|\n",
      "|  3|  4|  5|mistress|3mistress|\n",
      "|  5|  6|  7|jon snow|5jon snow|\n",
      "+---+---+---+--------+---------+\n",
      "\n"
     ]
    }
   ],
   "source": [
    "# concat a column\n",
    "s_df.withColumn(\"concated\", F.concat('A', 'Crime')).show()"
   ]
  },
  {
   "cell_type": "code",
   "execution_count": null,
   "metadata": {},
   "outputs": [],
   "source": [
    "# ranking values is another important functionality in dataframes\n",
    "\n"
   ]
  }
 ],
 "metadata": {
  "kernelspec": {
   "display_name": "Python 3",
   "language": "python",
   "name": "python3"
  },
  "language_info": {
   "codemirror_mode": {
    "name": "ipython",
    "version": 3
   },
   "file_extension": ".py",
   "mimetype": "text/x-python",
   "name": "python",
   "nbconvert_exporter": "python",
   "pygments_lexer": "ipython3",
   "version": "3.6.8"
  }
 },
 "nbformat": 4,
 "nbformat_minor": 2
}
